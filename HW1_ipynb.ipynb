{
 "cells": [
  {
   "cell_type": "markdown",
   "id": "94368829",
   "metadata": {},
   "source": [
    "## Задание 1"
   ]
  },
  {
   "cell_type": "markdown",
   "id": "0330b1ed",
   "metadata": {},
   "source": [
    "### 1/На складе лежат разные фрукты в разном количестве. Нужно написать функцию, которая на вход принимает любое количество названий фруктов и их количество, а возвращает общее количество фруктов на складе"
   ]
  },
  {
   "cell_type": "code",
   "execution_count": 12,
   "id": "e53e476c",
   "metadata": {},
   "outputs": [],
   "source": [
    "fruits = {'apple': 5, 'orange': 6, 'pineapple': 10, 'grape': 8, 'kiwi': 6}"
   ]
  },
  {
   "cell_type": "code",
   "execution_count": 13,
   "id": "dc7b33ff",
   "metadata": {},
   "outputs": [],
   "source": [
    "def get_count(**kwargs):\n",
    "    return sum(kwargs.values())   "
   ]
  },
  {
   "cell_type": "code",
   "execution_count": 14,
   "id": "17cc247e",
   "metadata": {},
   "outputs": [
    {
     "data": {
      "text/plain": [
       "35"
      ]
     },
     "execution_count": 14,
     "metadata": {},
     "output_type": "execute_result"
    }
   ],
   "source": [
    "get_count(**fruits)"
   ]
  },
  {
   "cell_type": "markdown",
   "id": "6bda72cd",
   "metadata": {},
   "source": [
    "## Задание 2"
   ]
  },
  {
   "cell_type": "markdown",
   "id": "c1eda3b8",
   "metadata": {},
   "source": [
    "### 1.2 Дан список с затратами на рекламу. Но в данных есть ошибки, некоторые затраты имеют отрицательную величину. Удалите такие значения из списка и посчитайте суммарные затраты. Используйте list comprehensions"
   ]
  },
  {
   "cell_type": "code",
   "execution_count": 16,
   "id": "2ada0b40",
   "metadata": {},
   "outputs": [],
   "source": [
    "my_list = [100, 125, -90, 345, 655, -1, 0, 200]"
   ]
  },
  {
   "cell_type": "code",
   "execution_count": 17,
   "id": "61405981",
   "metadata": {},
   "outputs": [
    {
     "data": {
      "text/plain": [
       "1425"
      ]
     },
     "execution_count": 17,
     "metadata": {},
     "output_type": "execute_result"
    }
   ],
   "source": [
    "sum([i for i in my_list if i > 0])"
   ]
  },
  {
   "cell_type": "markdown",
   "id": "946485c6",
   "metadata": {},
   "source": [
    "## Задание 3"
   ]
  },
  {
   "cell_type": "markdown",
   "id": "12c5f018",
   "metadata": {},
   "source": [
    "### Задание 3.1"
   ]
  },
  {
   "cell_type": "markdown",
   "id": "3750236d",
   "metadata": {},
   "source": [
    "Даны два списка:\n",
    "\n",
    "дата покупки\n",
    "суммы покупок по датам\n",
    "Найдите, какая выручка у компании в ноябре Используйте list comprehensions"
   ]
  },
  {
   "cell_type": "code",
   "execution_count": 19,
   "id": "83a75359",
   "metadata": {},
   "outputs": [],
   "source": [
    "b_dates = ['2021-09-14', '2021-12-15', '2021-09-08', '2021-12-05', '2021-10-09', '2021-09-30', '2021-12-22', '2021-11-29', \n",
    "          '2021-12-24', '2021-11-26', '2021-10-27', '2021-12-18', '2021-11-09', '2021-11-23', '2021-09-27', '2021-10-02', \n",
    "          '2021-12-27', '2021-09-20', '2021-12-13', '2021-11-01', '2021-11-09', '2021-12-06', '2021-12-08', '2021-10-09', \n",
    "          '2021-10-31', '2021-09-30', '2021-11-09', '2021-12-13', '2021-10-26', '2021-12-09']\n",
    "\n",
    "b_costs = [1270, 8413, 9028, 3703, 5739, 4095, 295, 4944, 5723, 3701, 4471, 651, 7037, 4274, 6275, 4988, 6930, 2971, 6592, \n",
    "           2004, 2822, 519, 3406, 2732, 5015, 2008, 316, 6333, 5700, 2887]"
   ]
  },
  {
   "cell_type": "code",
   "execution_count": 20,
   "id": "c2249ce0",
   "metadata": {},
   "outputs": [
    {
     "data": {
      "text/plain": [
       "25647"
      ]
     },
     "execution_count": 20,
     "metadata": {},
     "output_type": "execute_result"
    }
   ],
   "source": [
    "sum([b_costs[i] if b_dates[i][5:7] == '09' else 0 for i in range(len(b_dates))])"
   ]
  },
  {
   "cell_type": "markdown",
   "id": "ac4cd7a4",
   "metadata": {},
   "source": [
    "## Задание 3.2"
   ]
  },
  {
   "cell_type": "markdown",
   "id": "8275c884",
   "metadata": {},
   "source": [
    "Найдите выручку компании в зависимости от месяца Для этого напишите функцию, которая на вход принимает список с датами и список с выручкой, а на выходе словарь, где ключи - это месяцы, а значения - это выручка."
   ]
  },
  {
   "cell_type": "code",
   "execution_count": 22,
   "id": "77d2c5ee",
   "metadata": {},
   "outputs": [],
   "source": [
    "def create_dict(list1: list, list2: list) -> dict:\n",
    "    my_dict = {}\n",
    "    for i in range(len(list1)):\n",
    "        if list1[i][5:7] not in my_dict:\n",
    "            my_dict[list1[i][5:7]] = list2[i]\n",
    "        else:\n",
    "            my_dict[list1[i][5:7]] += list2[i]\n",
    "    return dict(sorted(my_dict.items()))"
   ]
  },
  {
   "cell_type": "code",
   "execution_count": 23,
   "id": "6ec57e05",
   "metadata": {},
   "outputs": [
    {
     "data": {
      "text/plain": [
       "{'09': 25647, '10': 28645, '11': 25098, '12': 45452}"
      ]
     },
     "execution_count": 23,
     "metadata": {},
     "output_type": "execute_result"
    }
   ],
   "source": [
    "create_dict(b_dates, b_costs)"
   ]
  },
  {
   "cell_type": "code",
   "execution_count": null,
   "id": "40f53f93",
   "metadata": {},
   "outputs": [],
   "source": []
  }
 ],
 "metadata": {
  "kernelspec": {
   "display_name": "Python 3 (ipykernel)",
   "language": "python",
   "name": "python3"
  },
  "language_info": {
   "codemirror_mode": {
    "name": "ipython",
    "version": 3
   },
   "file_extension": ".py",
   "mimetype": "text/x-python",
   "name": "python",
   "nbconvert_exporter": "python",
   "pygments_lexer": "ipython3",
   "version": "3.9.13"
  }
 },
 "nbformat": 4,
 "nbformat_minor": 5
}
